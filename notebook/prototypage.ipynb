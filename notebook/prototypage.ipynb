{
 "cells": [
  {
   "cell_type": "code",
   "execution_count": null,
   "metadata": {},
   "outputs": [],
   "source": [
    "from psycopg import Cursor\n",
    "from openai import OpenAI\n",
    "import os\n",
    "import psycopg"
   ]
  },
  {
   "cell_type": "code",
   "execution_count": null,
   "metadata": {},
   "outputs": [],
   "source": [
    "conversation_file_path = \"../data/conversation.txt\"\n",
    "openai_client = OpenAI(api_key=os.getenv(\"OPENAI_KEY\"))\n",
    "db_connection_str = \"dbname=chatbot_rag user=odoo password=odoo host=localhost port=5432\""
   ]
  },
  {
   "cell_type": "code",
   "execution_count": null,
   "metadata": {},
   "outputs": [],
   "source": [
    "def create_conversation_list(file_path: str) -> list[str]:\n",
    "    with open(file_path, encoding=\"utf-8\") as file:\n",
    "        text = file.read()\n",
    "        text_list = text.split(\"\\n\")\n",
    "        filtered_list = [chaine.removeprefix(\"     \") for chaine in text_list if not chaine.startswith(\"<\")]\n",
    "        return filtered_list\n",
    "    \n",
    "def calculate_embedding(corpus: str, client: OpenAI) -> list[float]:\n",
    "    embeddings = client.embeddings.create(\n",
    "        model=\"text-embedding-ada-002\",\n",
    "        input=corpus,\n",
    "        encoding_format=\"float\"\n",
    "    ).data\n",
    "    return embeddings[0].embedding\n",
    "\n",
    "def save_embedding(corpus: str, embedding: list[float], cursor: Cursor) -> None:\n",
    "    cursor.execute(\"\"\"\n",
    "        INSERT INTO embeddings (corpus, embedding) VALUES (%s, %s)\n",
    "    \"\"\", (corpus, embedding))\n",
    "\n",
    "def retrieve_similar_corpus(input_corpus: str, client: OpenAI, db_connection_str: str) -> tuple[int, str, list[float]]:\n",
    "    input_corpus_embedding = calculate_embedding(corpus=input_corpus, client=client)\n",
    "    with psycopg.connect(db_connection_str) as conn:\n",
    "        with conn.cursor() as cur:\n",
    "            query = \"\"\"\n",
    "                SELECT id, corpus, embedding\n",
    "                FROM embeddings\n",
    "                ORDER BY embedding <=> %s::vector\n",
    "                LIMIT 1;\n",
    "            \"\"\"\n",
    "            cur.execute(query, [input_corpus_embedding])\n",
    "            result = cur.fetchone()\n",
    "            return result\n",
    "        \n",
    "def generate_response(input_corpus: str, client: OpenAI = openai_client, db_connection_str: str=db_connection_str):\n",
    "    similar_text = retrieve_similar_corpus(input_corpus=input_corpus, client=client, db_connection_str=db_connection_str)[1]\n",
    "    completion = client.chat.completions.create(\n",
    "        model=\"gpt-4o\",\n",
    "        messages=[\n",
    "            {\"role\": \"system\", \"content\": \"Vous êtes un assistant chatbot serviable travaillant dans le service d'accueil d'une université. Vous devez reformuler des réponses extraites d'une base de données de manière cohérente et compréhensible pour l'utilisateur.\"},\n",
    "            {\n",
    "                \"role\": \"user\",\n",
    "                \"content\": similar_text\n",
    "            }\n",
    "        ]\n",
    "    )\n",
    "    return completion.choices[0].message.content\n",
    "    "
   ]
  },
  {
   "cell_type": "code",
   "execution_count": null,
   "metadata": {},
   "outputs": [],
   "source": [
    "import psycopg\n",
    "import numpy as np\n",
    "\n",
    "with psycopg.connect(db_connection_str) as conn:\n",
    "    with conn.cursor() as cur:\n",
    "        cur.execute(\"\"\" DROP TABLE embeddings\"\"\")\n",
    "        cur.execute(\"CREATE EXTENSION IF NOT EXISTS vector;\")\n",
    "\n",
    "        cur.execute(\"\"\"\n",
    "            CREATE TABLE IF NOT EXISTS embeddings (\n",
    "                    id serial PRIMARY KEY,\n",
    "                    corpus text,\n",
    "                    embedding vector(1536)\n",
    "            );\n",
    "        \"\"\")\n",
    "\n",
    "        corpus_list = create_conversation_list(file_path=conversation_file_path)\n",
    "        for corpus in corpus_list:\n",
    "            embedding = calculate_embedding(corpus=corpus, client=openai_client)\n",
    "            save_embedding(corpus=corpus, embedding=embedding, cursor=cur)\n",
    "\n",
    "        conn.commit()"
   ]
  },
  {
   "cell_type": "code",
   "execution_count": null,
   "metadata": {},
   "outputs": [],
   "source": [
    "user_message = \"Où se trouve le site?\"\n",
    "retrieve_similar_corpus(input_corpus=user_message, client=openai_client, db_connection_str=db_connection_str)"
   ]
  },
  {
   "cell_type": "code",
   "execution_count": null,
   "metadata": {},
   "outputs": [],
   "source": [
    "generate_response(input_corpus=user_message)"
   ]
  }
 ],
 "metadata": {
  "kernelspec": {
   "display_name": "venv",
   "language": "python",
   "name": "python3"
  },
  "language_info": {
   "codemirror_mode": {
    "name": "ipython",
    "version": 3
   },
   "file_extension": ".py",
   "mimetype": "text/x-python",
   "name": "python",
   "nbconvert_exporter": "python",
   "pygments_lexer": "ipython3",
   "version": "3.12.3"
  }
 },
 "nbformat": 4,
 "nbformat_minor": 2
}
